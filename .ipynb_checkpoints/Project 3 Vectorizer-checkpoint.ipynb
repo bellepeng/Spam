{
 "cells": [
  {
   "cell_type": "markdown",
   "metadata": {},
   "source": [
    "## This Notebook is Parsing the input for the Web App"
   ]
  },
  {
   "cell_type": "code",
   "execution_count": 1,
   "metadata": {
    "ExecuteTime": {
     "end_time": "2018-08-06T21:21:11.981868Z",
     "start_time": "2018-08-06T21:21:09.592479Z"
    }
   },
   "outputs": [],
   "source": [
    "import numpy as np\n",
    "import pickle\n",
    "import re\n",
    "from collections import Counter\n",
    "import email\n",
    "from email.parser import Parser"
   ]
  },
  {
   "cell_type": "code",
   "execution_count": 31,
   "metadata": {
    "ExecuteTime": {
     "end_time": "2018-08-06T22:40:15.449420Z",
     "start_time": "2018-08-06T22:40:15.439788Z"
    }
   },
   "outputs": [
    {
     "data": {
      "text/plain": [
       "'\"When Im working on a problem, I never think about beauty. I think only how to solve the problem. But when I have finished, if the solution is not beautiful, I know it is wrong.\"  -- R. Buckminster Fuller. \"Simplicity is the highest goal, achievable when you have overcome all difficulties.\" -- Frederic Chopin \"Externalities are the last refuge of the dirigistes.\" -- Friedrich Hayek '"
      ]
     },
     "execution_count": 31,
     "metadata": {},
     "output_type": "execute_result"
    }
   ],
   "source": [
    "email_msg='\"When Im working on a problem, I never think about beauty. \\\n",
    "I think only how to solve the problem. But when I have finished, if the solution is not \\\n",
    "beautiful, I know it is wrong.\"  -- R. Buckminster Fuller. \"Simplicity is the highest goal, \\\n",
    "achievable when you have overcome all difficulties.\" -- Frederic Chopin \\\n",
    "\"Externalities are the last refuge of the dirigistes.\" -- Friedrich Hayek '\n",
    "# email='When Im working on a problem, I never think about beauty.'\n",
    "email_msg"
   ]
  },
  {
   "cell_type": "code",
   "execution_count": 41,
   "metadata": {
    "ExecuteTime": {
     "end_time": "2018-08-06T22:40:35.994895Z",
     "start_time": "2018-08-06T22:40:35.989961Z"
    }
   },
   "outputs": [],
   "source": [
    "keywords = pickle.load(open('keywords.pkl', 'rb'))"
   ]
  },
  {
   "cell_type": "code",
   "execution_count": 42,
   "metadata": {
    "ExecuteTime": {
     "end_time": "2018-08-06T22:40:36.155996Z",
     "start_time": "2018-08-06T22:40:36.150660Z"
    }
   },
   "outputs": [],
   "source": [
    "# Function for finding length of uninterrupted sequences of capital letters\n",
    "def cap_counts(a):\n",
    "    caps=[]\n",
    "    caps_len=[]\n",
    "    for i in range(len(a)):\n",
    "        caps.append(re.findall('([A-Z]+)', a[i]))\n",
    "        if len(str(caps[i]))==2:\n",
    "            caps_len.append(0)\n",
    "        else:\n",
    "            caps_len.append(len(str(caps[i]))-4)\n",
    "    return np.mean(np.array(caps_len)[np.nonzero(caps_len)]), max(caps_len), sum(caps_len)"
   ]
  },
  {
   "cell_type": "code",
   "execution_count": 51,
   "metadata": {
    "ExecuteTime": {
     "end_time": "2018-08-06T22:44:37.082290Z",
     "start_time": "2018-08-06T22:44:37.076366Z"
    }
   },
   "outputs": [],
   "source": [
    "def get_processed_email(s):\n",
    "    a = Counter(s.lower().split())\n",
    "    words = s.split()\n",
    "    \n",
    "    oneEmail = [len(words)]\n",
    "    \n",
    "    for key in keywords:\n",
    "        oneEmail.append(a[key]/oneEmail[0])\n",
    "    oneEmail.extend(cap_counts(words))\n",
    "    return np.array(oneEmail[1:]).reshape(1,-1)\n",
    "\n",
    "print(get_processed_email(email_msg)[:5])\n",
    "print(get_processed_email(email_msg)[-5:])"
   ]
  },
  {
   "cell_type": "code",
   "execution_count": null,
   "metadata": {},
   "outputs": [],
   "source": [
    "y_predict = (model.predict_proba(X_test)[:, 1] >= threshold)"
   ]
  },
  {
   "cell_type": "code",
   "execution_count": null,
   "metadata": {},
   "outputs": [],
   "source": [
    "def get_processed_file(file):\n",
    "    with open(UPLOAD_FOLDER+'/file', 'rb') as f:\n",
    "        contents = f.read()\n",
    "    test_email = Parser().parsestr(contents.decode('utf-8', errors='ignore'))\n",
    "    try:\n",
    "        a = Counter(test_email.get_payload().lower().split())\n",
    "        words = test_email.get_payload().split()\n",
    "    except AttributeError:\n",
    "        print('Cannot read file')\n",
    "\n",
    "\n",
    "    # Get: ID from filename, and keyword counts, capital lengths\n",
    "    oneEmail=[len(words)]                                            # total word count\n",
    "    for key in keywords:                                             # get keyword counts  \n",
    "        oneEmail.append(a[key] / oneEmail[0])                                      \n",
    "    oneEmail.extend(cap_counts(words))                               # get capital length\n",
    "    return np.array(oneEmail[1:]).reshape(1,-1)"
   ]
  },
  {
   "cell_type": "code",
   "execution_count": null,
   "metadata": {},
   "outputs": [],
   "source": []
  },
  {
   "cell_type": "code",
   "execution_count": null,
   "metadata": {},
   "outputs": [],
   "source": []
  },
  {
   "cell_type": "code",
   "execution_count": null,
   "metadata": {},
   "outputs": [],
   "source": []
  },
  {
   "cell_type": "code",
   "execution_count": null,
   "metadata": {},
   "outputs": [],
   "source": []
  },
  {
   "cell_type": "code",
   "execution_count": null,
   "metadata": {},
   "outputs": [],
   "source": []
  }
 ],
 "metadata": {
  "kernelspec": {
   "display_name": "Python (anacoda)",
   "language": "python",
   "name": "other-env"
  },
  "language_info": {
   "codemirror_mode": {
    "name": "ipython",
    "version": 3
   },
   "file_extension": ".py",
   "mimetype": "text/x-python",
   "name": "python",
   "nbconvert_exporter": "python",
   "pygments_lexer": "ipython3",
   "version": "3.6.5"
  },
  "varInspector": {
   "cols": {
    "lenName": 16,
    "lenType": 16,
    "lenVar": 40
   },
   "kernels_config": {
    "python": {
     "delete_cmd_postfix": "",
     "delete_cmd_prefix": "del ",
     "library": "var_list.py",
     "varRefreshCmd": "print(var_dic_list())"
    },
    "r": {
     "delete_cmd_postfix": ") ",
     "delete_cmd_prefix": "rm(",
     "library": "var_list.r",
     "varRefreshCmd": "cat(var_dic_list()) "
    }
   },
   "types_to_exclude": [
    "module",
    "function",
    "builtin_function_or_method",
    "instance",
    "_Feature"
   ],
   "window_display": false
  }
 },
 "nbformat": 4,
 "nbformat_minor": 2
}
